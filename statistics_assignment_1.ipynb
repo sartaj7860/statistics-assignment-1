{
  "nbformat": 4,
  "nbformat_minor": 0,
  "metadata": {
    "colab": {
      "provenance": []
    },
    "kernelspec": {
      "name": "python3",
      "display_name": "Python 3"
    },
    "language_info": {
      "name": "python"
    }
  },
  "cells": [
    {
      "cell_type": "code",
      "execution_count": null,
      "metadata": {
        "id": "X8pnjzTsbRUK"
      },
      "outputs": [],
      "source": []
    },
    {
      "cell_type": "markdown",
      "source": [
        "Question 1: What is the difference between descriptive statistics and inferential\n",
        "statistics? Explain with examples.\n",
        "Answer:  \n",
        "1. Descriptive Statistics:\n",
        "Descriptive statistics involve methods to summarize, organize, and present data in a\n",
        "meaningful way, focusing on describing the characteristics of a dataset without making\n",
        "generalizations beyond it. These methods include measures of central tendency (e.g., mean,\n",
        "median, mode), measures of dispersion (e.g., range, variance, standard deviation), and data\n",
        "visualization techniques (e.g., histograms, pie charts).\n",
        "● Purpose: To provide a clear and concise summary of the data’s key features.\n",
        "● Scope: Limited to the sample or dataset being analyzed.\n",
        "● Example: Suppose a researcher collects test scores from 50 students in a class. They\n",
        "calculate the average score (mean) as 75, the median as 73, and the standard\n",
        "deviation as 10. They also create a histogram to visualize the distribution of scores.\n",
        "These summaries describe the performance of this specific group without making\n",
        "claims about other classes or populations.\n",
        "2. Inferential Statistics:\n",
        "Inferential statistics involve techniques that allow us to make generalizations, predictions, or\n",
        "conclusions about a population based on a sample of data. These methods rely on probability\n",
        "theory and include hypothesis testing, confidence intervals, and regression analysis to infer\n",
        "properties of a larger population.\n",
        "● Purpose: To draw conclusions or make predictions about a population based on\n",
        "sample data.\n",
        "● Scope: Extends beyond the sample to make inferences about a larger population.\n",
        "● Example: Using the same test scores from 50 students, the researcher might want to\n",
        "infer whether the class’s performance reflects the performance of all students in the\n",
        "school (the population). They could use a t-test to determine if the class’s mean score\n",
        "of 75 is significantly different from the school’s historical average of 70, or construct a\n",
        "95% confidence interval to estimate the range within which the true population mean\n",
        "lies.\n",
        "Key Differences:\n",
        "1. Objective:\n",
        "○ Descriptive statistics aim to describe and summarize data (e.g., calculating the\n",
        "average height of students in a classroom).\n",
        "○ Inferential statistics aim to make predictions or generalizations about a\n",
        "population (e.g., estimating the average height of all students in a school\n",
        "based on a sample).\n",
        "2. Scope:\n",
        "○ Descriptive statistics are limited to the dataset at hand.\n",
        "○ Inferential statistics extend findings to a broader population.\n",
        "3. Techniques:\n",
        "○ Descriptive statistics use measures like mean, median, and graphs.\n",
        "○ Inferential statistics use tools like hypothesis tests, p-values, and confidence\n",
        "intervals.\n",
        "4. Example Application:\n",
        "○ Descriptive: A company reports that 60% of its 100 employees are satisfied\n",
        "with their jobs based on a survey (summarizing the sample).\n",
        "○ Inferential: The company uses the survey data to estimate that 60% ± 5% of all\n",
        "employees across its branches are satisfied, with 95% confidence.\n",
        "Question 2: What is sampling in statistics? Explain the differences between random\n",
        "and stratified sampling.\n",
        "Answer:\n",
        "Sampling in statistics refers to the process of selecting a subset of individuals or units from a\n",
        "larger population to study and draw conclusions about that population. Since it is often\n",
        "impractical or impossible to study an entire population (due to time, cost, or logistical\n",
        "constraints), sampling allows researchers to analyze a manageable group while aiming to\n",
        "represent the population accurately.\n",
        "1. Random Sampling:\n",
        "Random sampling, also known as simple random sampling, is a method where every\n",
        "individual or unit in the population has an equal and independent chance of being selected for\n",
        "the sample. This method relies on randomness, typically achieved through mechanisms like\n",
        "random number generators or drawing lots.\n",
        "● Purpose: To obtain an unbiased sample that represents the population without\n",
        "favoring any subgroup.\n",
        "● Example: Suppose a researcher wants to study the average height of students in a\n",
        "university with 10,000 students. They assign each student a number and use a\n",
        "random number generator to select 100 students. Each student has an equal 1/10,000\n",
        "chance of being chosen, ensuring the sample is not biased toward any particular\n",
        "group (e.g., by gender or class year).\n",
        "2. Stratified Sampling:\n",
        "Stratified sampling involves dividing the population into distinct subgroups, or strata, based on\n",
        "a specific characteristic (e.g., age, gender, income level) and then randomly selecting\n",
        "samples from each stratum in proportion to its size in the population. This ensures\n",
        "representation of all relevant subgroups.\n",
        "● Purpose: To improve the precision of estimates by ensuring that key subgroups are\n",
        "adequately represented in the sample.\n",
        "● Example: In the same university, the researcher might notice that the student\n",
        "population consists of 60% undergraduates and 40% graduate students. To ensure\n",
        "both groups are represented, they divide the population into two strata\n",
        "(undergraduates and graduates) and randomly select 60 undergraduates and 40\n",
        "graduate students for a sample of 100. This ensures the sample reflects the\n",
        "population’s composition.\n",
        "Question 3: Define mean, median, and mode. Explain why these measures of central\n",
        "tendency are important.\n",
        "Answer:  \n",
        "Measures of central tendency—mean, median, and mode—are statistical tools used to\n",
        "summarize a dataset by identifying a central or typical value. Each measure provides a\n",
        "different perspective on the data’s center, and their importance lies in their ability to simplify\n",
        "complex datasets, facilitate comparisons, and inform decision-making. Below, I define each\n",
        "measure, provide examples, and explore their significance.\n",
        "1. Mean (Arithmetic Average):\n",
        "The mean is calculated by summing all values in a dataset and dividing by the number of\n",
        "observations. It represents the average value and is sensitive to all data points, including extreme values.\n",
        "● Formula: Mean = (Sum of all values) / (Number of values)\n",
        "● Example: For the test scores {70, 80, 90, 100, 60}, the mean is (70 + 80 + 90 + 100 +\n",
        "60) / 5 = 400 / 5 = 80.\n",
        "2. Median:\n",
        "The median is the middle value in a dataset when the values are arranged in ascending order.\n",
        "If the dataset has an even number of observations, the median is the average of the two\n",
        "middle values. It is robust to extreme values.\n",
        "● Calculation: Arrange data in order, then identify the middle value (or average the two\n",
        "middle values for an even number of observations).\n",
        "● Example: For the same test scores {60, 70, 80, 90, 100}, arranged in order, the\n",
        "median is 80 (the third value). If the scores were {60, 70, 80, 90}, the median would be\n",
        "(70 + 80) / 2 = 75.\n",
        "3. Mode:\n",
        "The mode is the value that appears most frequently in a dataset. A dataset may have one\n",
        "mode (unimodal), multiple modes (bimodal or multimodal), or no mode if all values occur\n",
        "equally often.\n",
        "● Example: For the dataset {60, 70, 70, 80, 90}, the mode is 70, as it appears twice\n",
        "while others appear once.\n",
        "Importance of Measures of Central Tendency:\n",
        "1.Simplifies Large Data\n",
        "● Reduces complex datasets to a single representative value.\n",
        "● E.g., “Average income is $50,000” is easier to understand than listing individual\n",
        "incomes.\n",
        "2. Enables Comparison\n",
        "● Facilitates comparison across different groups or datasets.\n",
        "● E.g., Comparing average test scores (Class A: 75 vs. Class B: 80).\n",
        "3.Supports Decision-Making\n",
        "● Guides business and policy decisions.\n",
        "● E.g., Mode helps identify the most popular product size; mean helps in sales\n",
        "forecasting.\n",
        "5.Adapts to Data Characteristics\n",
        "● Mean: Sensitive to outliers; useful for symmetric data.\n",
        "● Median: Robust against outliers; ideal for skewed data (e.g., income).\n",
        "● Mode: Useful for identifying common categories.\n",
        "6.Foundation for Advanced Analysis\n",
        "● Forms basis for statistical tools like hypothesis testing, regression, etc.\n",
        "● E.g., Mean helps estimate population parameters from samples.\n",
        "7.Versatile and Context-Dependent\n",
        "● Choosing the right measure improves insight accuracy.\n",
        "● Median is better for skewed data; mode for categorical; mean for balanced datasets.\n",
        "Question 4: Explain skewness and kurtosis. What does a positive skew imply about the\n",
        "data?\n",
        "answer Skewness measures the asymmetry of a dataset’s distribution. A distribution is symmetric if it\n",
        "looks the same on both sides of the mean. Skewness indicates whether data points are\n",
        "stretched more to one side.\n",
        "● Types:\n",
        "○ Positive skew (right-skewed): Tail is longer or fatter on the right (higher values).\n",
        "○ Negative skew (left-skewed): Tail is longer or fatter on the left (lower values).\n",
        "○ Zero skew: Symmetric distribution.\n",
        "● Example: Income distributions are often positively skewed, with many\n",
        "low-to-moderate incomes and a few high incomes.\n",
        "● Question to consider: How might skewness affect the choice between mean and\n",
        "median to describe a dataset?\n",
        "Kurtosis measures the “tailedness” of a distribution, indicating how much data is in the tails\n",
        "versus the center compared to a normal distribution.\n",
        "● Types:\n",
        "○ High kurtosis (leptokurtic): Heavy tails, more extreme values.\n",
        "○ Low kurtosis (platykurtic): Light tails, fewer extreme values.\n",
        "○ Normal kurtosis (mesokurtic): Similar to a normal distribution.\n",
        "● Example: Stock returns often have high kurtosis, indicating frequent extreme gains or\n",
        "losses.\n",
        "● Question 5 to consider: Why might high kurtosis be a concern for financial risk\n",
        "analysis?\n",
        "Positive Skew Implications:\n",
        "A positive skew means the dataset has a longer or fatter right tail, with more values below the\n",
        "mean and a few large values. The mean is typically greater than the median, which is greater\n",
        "than the mode. This suggests the data is not symmetrically distributed, and extreme high\n",
        "values pull the mean upward.\n",
        "● Example: In a dataset of house prices {100,000, 150,000, 200,000, 250,000,\n",
        "1,000,000}, the high value (1,000,000) creates a positive skew, making the mean\n",
        "higher than the median.\n",
        "● Implications: The mean may not represent the “typical” value well, and the median is\n",
        "often a better measure of central tendency. Positive skew is common in datasets like\n",
        "incomes, time to failure, or waiting times.\n",
        "● Question to consider: How might positive skew affect decisions about resource\n",
        "allocation in a budget based on average costs?\n",
        "Conclusion:\n",
        "Skewness and kurtosis describe the shape of a distribution. Skewness shows asymmetry,\n",
        "with positive skew indicating a right tail with extreme high values. Kurtosis highlights the\n",
        "presence of extreme values in the tails. Understanding these helps select appropriate statiscal measure and interpret data accurately, especially in skewed dataset where the data may mislead.\n"
      ],
      "metadata": {
        "id": "c4tHWcPbbTHD"
      }
    },
    {
      "cell_type": "code",
      "source": [
        "\n",
        "\n",
        "import statistics\n",
        "\n",
        "# Given list of numbers\n",
        "numbers = [12, 15, 12, 18, 19, 12, 20, 22, 19, 19, 24, 24, 24, 26, 28]\n",
        "\n",
        "# Calculate Mean\n",
        "mean = statistics.mean(numbers)\n",
        "\n",
        "# Calculate Median\n",
        "median = statistics.median(numbers)\n",
        "\n",
        "# Calculate Mode\n",
        "mode = statistics.mode(numbers)\n",
        "\n",
        "# Display the results\n",
        "print(\"Mean:\", mean)\n",
        "print(\"Median:\", median)\n",
        "print(\"Mode:\", mode)\n",
        "\n"
      ],
      "metadata": {
        "colab": {
          "base_uri": "https://localhost:8080/"
        },
        "id": "h_NxxnTleM6h",
        "outputId": "e761e935-2e37-468e-fc90-a5ee1978db9d"
      },
      "execution_count": 11,
      "outputs": [
        {
          "output_type": "stream",
          "name": "stdout",
          "text": [
            "Mean: 19.6\n",
            "Median: 19\n",
            "Mode: 12\n"
          ]
        }
      ]
    },
    {
      "cell_type": "code",
      "source": [
        "list_x = [10, 20, 30, 40, 50]\n",
        "list_y = [15, 25, 35, 45, 60]\n",
        "# Calculate mean\n",
        "def calculate_mean(numbers):\n",
        "    return sum(numbers) / len(numbers)\n",
        "# Calculate covariance\n",
        "def calculate_covariance(x, y):\n",
        "    n = len(x)\n",
        "    mean_x = calculate_mean(x)\n",
        "    mean_y = calculate_mean(y)\n",
        "    deviations = [(x[i] - mean_x) * (y[i] - mean_y) for i in range(n)]\n",
        "    return sum(deviations) / (n - 1)\n",
        "# Calculate standard deviation\n",
        "def calculate_std(numbers):\n",
        "    mean = calculate_mean(numbers)\n",
        "    squared_deviations = [(x - mean) ** 2 for x in numbers]\n",
        "    return (sum(squared_deviations) / (len(numbers) - 1)) ** 0.5\n",
        "# Calculate correlation coefficient\n",
        "def calculate_correlation(x, y):\n",
        "    cov = calculate_covariance(x, y)\n",
        "    std_x = calculate_std(numbers=x)\n",
        "    std_y = calculate_std(numbers=y)\n",
        "    return cov / (std_x * std_y)\n",
        "# Compute and display results\n",
        "cov = calculate_covariance(list_x, list_y)\n",
        "corr = calculate_correlation(list_x, list_y)\n",
        "print(f\"List X: {list_x}\")\n",
        "print(f\"List Y: {list_y}\")\n",
        "print(f\"Covariance: {cov:.2f}\")\n",
        "print(f\"Correlation Coefficient: {corr:.2f}\")"
      ],
      "metadata": {
        "colab": {
          "base_uri": "https://localhost:8080/"
        },
        "id": "dmnoPA2ofXL2",
        "outputId": "9b0bc721-d00d-401f-93fd-06396e2167c2"
      },
      "execution_count": 3,
      "outputs": [
        {
          "output_type": "stream",
          "name": "stdout",
          "text": [
            "List X: [10, 20, 30, 40, 50]\n",
            "List Y: [15, 25, 35, 45, 60]\n",
            "Covariance: 275.00\n",
            "Correlation Coefficient: 1.00\n"
          ]
        }
      ]
    },
    {
      "cell_type": "code",
      "source": [
        "import matplotlib.pyplot as plt\n",
        "import numpy as np\n",
        "# Data\n",
        "data = [12, 14, 14, 15, 18, 19, 19, 21, 22, 22, 23, 23, 24, 26, 29, 35]\n",
        "# Create boxplot\n",
        "plt.boxplot(data)\n",
        "plt.title(\"Boxplot of Data\")\n",
        "plt.ylabel(\"Values\")\n",
        "plt.show()\n",
        "# Calculate quartiles and IQR\n",
        "sorted_data = sorted(data)\n",
        "n = len(data)\n",
        "q1 = np.percentile(data, 25)\n",
        "q3 = np.percentile(data, 75)\n",
        "iqr = q3 - q1\n",
        "# Define outlier boundaries\n",
        "lower_bound = q1 - 1.5 * iqr\n",
        "upper_bound = q3 + 1.5 * iqr\n",
        "# Identify outliers\n",
        "outliers = [x for x in data if x < lower_bound or x > upper_bound]\n",
        "# Print results\n",
        "print(f\"Data: {data}\")\n",
        "print(f\"Q1 (25th percentile): {q1}\")\n",
        "print(f\"Q3 (75th percentile): {q3}\")\n",
        "print(f\"IQR: {iqr}\")\n",
        "print(f\"Lower Bound: {lower_bound}\")\n",
        "print(f\"Upper Bound: {upper_bound}\")\n",
        "print(f\"Outliers: {outliers}\")"
      ],
      "metadata": {
        "colab": {
          "base_uri": "https://localhost:8080/",
          "height": 573
        },
        "id": "jdc4LcIifXA1",
        "outputId": "f61ac2fd-bc0e-4071-d2ac-2d3611c8b4cd"
      },
      "execution_count": 4,
      "outputs": [
        {
          "output_type": "display_data",
          "data": {
            "text/plain": [
              "<Figure size 640x480 with 1 Axes>"
            ],
            "image/png": "[encoded data removed]"
          },
          "metadata": {}
        },
        {
          "output_type": "stream",
          "name": "stdout",
          "text": [
            "Data: [12, 14, 14, 15, 18, 19, 19, 21, 22, 22, 23, 23, 24, 26, 29, 35]\n",
            "Q1 (25th percentile): 17.25\n",
            "Q3 (75th percentile): 23.25\n",
            "IQR: 6.0\n",
            "Lower Bound: 8.25\n",
            "Upper Bound: 32.25\n",
            "Outliers: [35]\n"
          ]
        }
      ]
    },
    {
      "cell_type": "code",
      "source": [
        "# Define the datasets\n",
        "advertising_spend = [200, 250, 300, 400, 500]\n",
        "daily_sales = [2200, 2450, 2750, 3200, 4000]\n",
        "# Function to calculate mean of a list\n",
        "def calculate_mean(numbers):\n",
        "    return sum(numbers) / len(numbers)\n",
        "# Function to calculate covariance\n",
        "def calculate_covariance(x, y):\n",
        "    n = len(x)  # Number of observations\n",
        "    mean_x = calculate_mean(x)  # Mean of advertising spend\n",
        "    mean_y = calculate_mean(y)  # Mean of daily sales\n",
        "    # Calculate deviations: (x_i - mean_x) * (y_i - mean_y) for each pair\n",
        "    deviations = [(x[i] - mean_x) * (y[i] - mean_y) for i in range(n)]\n",
        "    # Covariance = sum of deviations / (n-1) for sample\n",
        "    return sum(deviations) / (n - 1)\n",
        "# Function to calculate standard deviation\n",
        "def calculate_std(numbers):\n",
        "    mean = calculate_mean(numbers)\n",
        "    # Sum of squared deviations from mean\n",
        "    squared_deviations = [(x - mean) ** 2 for x in numbers]\n",
        "    # Standard deviation = sqrt(sum of squared deviations / (n-1))\n",
        "    return (sum(squared_deviations) / (len(numbers) - 1)) ** 0.5\n",
        "# Function to calculate correlation coefficient\n",
        "def calculate_correlation(x, y):\n",
        "    cov = calculate_covariance(x, y)  # Compute covariance\n",
        "    std_x = calculate_std(x)  # Standard deviation of x\n",
        "    std_y = calculate_std(y)  # Standard deviation of y\n",
        "    # Correlation = covariance / (std_x * std_y)\n",
        "    return cov / (std_x * std_y)\n",
        "# Compute correlation\n",
        "correlation = calculate_correlation(advertising_spend, daily_sales)\n",
        "# Print results\n",
        "print(f\"Advertising Spend: {advertising_spend}\")\n",
        "print(f\"Daily Sales: {daily_sales}\")\n",
        "print(f\"Correlation Coefficient: {correlation:.3f}\")"
      ],
      "metadata": {
        "colab": {
          "base_uri": "https://localhost:8080/"
        },
        "id": "DTjryX2FfyXc",
        "outputId": "af20c9bc-5e4f-44f1-d69e-1c83ab154ee2"
      },
      "execution_count": 6,
      "outputs": [
        {
          "output_type": "stream",
          "name": "stdout",
          "text": [
            "Advertising Spend: [200, 250, 300, 400, 500]\n",
            "Daily Sales: [2200, 2450, 2750, 3200, 4000]\n",
            "Correlation Coefficient: 0.994\n"
          ]
        }
      ]
    },
    {
      "cell_type": "code",
      "source": [
        "import matplotlib.pyplot as plt\n",
        "from collections import Counter\n",
        "import math\n",
        "# Survey data\n",
        "survey_scores = [7, 8, 5, 9, 6, 7, 8, 9, 10, 4, 7, 6, 9, 8, 7]\n",
        "# Calculate summary statistics\n",
        "mean = sum(survey_scores) / len(survey_scores)  # Mean: average score\n",
        "median = sorted(survey_scores)[len(survey_scores)//2]  # Median: middle value\n",
        "mode = Counter(survey_scores).most_common(1)[0][0]  # Mode: most frequent source\n",
        "squared_deviations = [(x - mean) ** 2 for x in survey_scores]\n",
        "std_dev = math.sqrt(sum(squared_deviations) / (len(survey_scores) - 1))\n",
        "# Standard deviation\n",
        "min_score = min(survey_scores)  # Minimum score\n",
        "max_score = max(survey_scores)  # Maximum score\n",
        "# Create histogram\n",
        "plt.hist(survey_scores, bins=range(1, 12), edgecolor='black',\n",
        "align='left')\n",
        "plt.title(\"Histogram of Customer Satisfaction Scores\")\n",
        "plt.xlabel(\"Satisfaction Score (1-10)\")\n",
        "plt.ylabel(\"Frequency\")\n",
        "plt.xticks(range(1, 11))  # Set x-axis ticks for 1-10 scale plt.show()\n",
        "# Print summary statistics\n",
        "print(f\"Survey Scores: {survey_scores}\")\n",
        "print(f\"Mean: {mean:.2f}\")\n",
        "print(f\"Median: {median:.2f}\")\n",
        "print(f\"Mode: {mode}\")\n",
        "print(f\"Standard Deviation: {std_dev:.2f}\")\n",
        "print(f\"Min: {min_score}\")\n",
        "print(f\"Max: {max_score}\")"
      ],
      "metadata": {
        "colab": {
          "base_uri": "https://localhost:8080/",
          "height": 593
        },
        "id": "TSZMAv-hfyLE",
        "outputId": "6014cab1-39c4-4c2b-b5c6-259354cdcc16"
      },
      "execution_count": 8,
      "outputs": [
        {
          "output_type": "stream",
          "name": "stdout",
          "text": [
            "Survey Scores: [7, 8, 5, 9, 6, 7, 8, 9, 10, 4, 7, 6, 9, 8, 7]\n",
            "Mean: 7.33\n",
            "Median: 7.00\n",
            "Mode: 7\n",
            "Standard Deviation: 1.63\n",
            "Min: 4\n",
            "Max: 10\n"
          ]
        },
        {
          "output_type": "display_data",
          "data": {
            "text/plain": [
              "<Figure size 640x480 with 1 Axes>"
            ],
            "image/png": "[encoded data removed]"
          },
          "metadata": {}
        }
      ]
    }
  ]
}